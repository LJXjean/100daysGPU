{
  "nbformat": 4,
  "nbformat_minor": 0,
  "metadata": {
    "colab": {
      "provenance": [],
      "toc_visible": true,
      "gpuType": "T4"
    },
    "kernelspec": {
      "name": "python3",
      "display_name": "Python 3"
    },
    "language_info": {
      "name": "python"
    },
    "accelerator": "GPU"
  },
  "cells": [
    {
      "cell_type": "markdown",
      "source": [
        "\n",
        "\n",
        "# Frist cuda program!\n",
        "\n"
      ],
      "metadata": {
        "id": "ucYMW2OjKV8E"
      }
    },
    {
      "cell_type": "code",
      "execution_count": 72,
      "metadata": {
        "colab": {
          "base_uri": "https://localhost:8080/"
        },
        "id": "ZFrztpB9D-on",
        "outputId": "fee5f091-ae3a-432b-e97d-143d794df47f"
      },
      "outputs": [
        {
          "output_type": "stream",
          "name": "stdout",
          "text": [
            "Overwriting vector_addition.cu\n"
          ]
        }
      ],
      "source": [
        "%%writefile vector_addition.cu\n",
        "\n",
        "#include <iostream>\n",
        "#include <cuda_runtime.h>\n",
        "\n",
        "__global__ void vector_addition(const float* A, const float* B, float* C, int N) {\n",
        "    int i = blockIdx.x * blockDim.x + threadIdx.x;\n",
        "    if (i < N) {\n",
        "        C[i] = A[i] + B[i];\n",
        "    }\n",
        "}\n",
        "\n",
        "int main() {\n",
        "    const int N = 10000;\n",
        "    float A[N], B[N], C[N];\n",
        "\n",
        "    // Initialize input arrays\n",
        "    for (int i = 0; i < N; i++) {\n",
        "        A[i] = static_cast<float>(i);\n",
        "        B[i] = static_cast<float>(i * 2);\n",
        "    }\n",
        "\n",
        "    float *d_a, *d_b, *d_c;\n",
        "    cudaMalloc(&d_a, N * sizeof(float));\n",
        "    cudaMalloc(&d_b, N * sizeof(float));\n",
        "    cudaMalloc(&d_c, N * sizeof(float));\n",
        "\n",
        "    cudaMemcpy(d_a, A, N * sizeof(float), cudaMemcpyHostToDevice);\n",
        "    cudaMemcpy(d_b, B, N * sizeof(float), cudaMemcpyHostToDevice);\n",
        "\n",
        "    int blocksize = 256;\n",
        "    int gridsize = (N + blocksize - 1) / blocksize;\n",
        "\n",
        "    // Create CUDA events for timing\n",
        "    cudaEvent_t start, stop;\n",
        "    cudaEventCreate(&start);\n",
        "    cudaEventCreate(&stop);\n",
        "\n",
        "    // Record the start event\n",
        "    cudaEventRecord(start);\n",
        "\n",
        "    // Launch the kernel\n",
        "    vector_addition<<<gridsize, blocksize>>>(d_a, d_b, d_c, N);\n",
        "\n",
        "    // Record the stop event\n",
        "    cudaEventRecord(stop);\n",
        "\n",
        "    // Wait for the stop event to complete\n",
        "    cudaEventSynchronize(stop);\n",
        "\n",
        "    // Calculate elapsed time in milliseconds\n",
        "    float milliseconds = 0;\n",
        "    cudaEventElapsedTime(&milliseconds, start, stop);\n",
        "    std::cout << \"GPU kernel execution time: \" << milliseconds << \" ms\" << std::endl;\n",
        "\n",
        "    // Copy result back from device to host\n",
        "    cudaMemcpy(C, d_c, N * sizeof(float), cudaMemcpyDeviceToHost);\n",
        "\n",
        "    // Optionally, print the results\n",
        "    // for (int i = 0; i < N; i++) {\n",
        "    //     std::cout << \"C[\" << i << \"] = \" << C[i] << std::endl;\n",
        "    // }\n",
        "\n",
        "    // Clean up\n",
        "    cudaFree(d_a);\n",
        "    cudaFree(d_b);\n",
        "    cudaFree(d_c);\n",
        "    cudaEventDestroy(start);\n",
        "    cudaEventDestroy(stop);\n",
        "\n",
        "    return 0;\n",
        "}\n"
      ]
    },
    {
      "cell_type": "code",
      "source": [
        "!nvcc --version"
      ],
      "metadata": {
        "colab": {
          "base_uri": "https://localhost:8080/"
        },
        "id": "GkUjvKXbHHQG",
        "outputId": "a5f3047f-9b35-422d-9e46-98b6abffbb48"
      },
      "execution_count": 73,
      "outputs": [
        {
          "output_type": "stream",
          "name": "stdout",
          "text": [
            "nvcc: NVIDIA (R) Cuda compiler driver\n",
            "Copyright (c) 2005-2024 NVIDIA Corporation\n",
            "Built on Thu_Jun__6_02:18:23_PDT_2024\n",
            "Cuda compilation tools, release 12.5, V12.5.82\n",
            "Build cuda_12.5.r12.5/compiler.34385749_0\n"
          ]
        }
      ]
    },
    {
      "cell_type": "code",
      "source": [
        "!nvidia-smi"
      ],
      "metadata": {
        "colab": {
          "base_uri": "https://localhost:8080/"
        },
        "id": "rN9xE99VHdMU",
        "outputId": "39fae2b6-e385-4c99-c445-9b0aca823c96"
      },
      "execution_count": 74,
      "outputs": [
        {
          "output_type": "stream",
          "name": "stdout",
          "text": [
            "Tue Mar 11 17:27:05 2025       \n",
            "+-----------------------------------------------------------------------------------------+\n",
            "| NVIDIA-SMI 550.54.15              Driver Version: 550.54.15      CUDA Version: 12.4     |\n",
            "|-----------------------------------------+------------------------+----------------------+\n",
            "| GPU  Name                 Persistence-M | Bus-Id          Disp.A | Volatile Uncorr. ECC |\n",
            "| Fan  Temp   Perf          Pwr:Usage/Cap |           Memory-Usage | GPU-Util  Compute M. |\n",
            "|                                         |                        |               MIG M. |\n",
            "|=========================================+========================+======================|\n",
            "|   0  Tesla T4                       Off |   00000000:00:04.0 Off |                    0 |\n",
            "| N/A   34C    P8              9W /   70W |       0MiB /  15360MiB |      0%      Default |\n",
            "|                                         |                        |                  N/A |\n",
            "+-----------------------------------------+------------------------+----------------------+\n",
            "                                                                                         \n",
            "+-----------------------------------------------------------------------------------------+\n",
            "| Processes:                                                                              |\n",
            "|  GPU   GI   CI        PID   Type   Process name                              GPU Memory |\n",
            "|        ID   ID                                                               Usage      |\n",
            "|=========================================================================================|\n",
            "|  No running processes found                                                             |\n",
            "+-----------------------------------------------------------------------------------------+\n"
          ]
        }
      ]
    },
    {
      "cell_type": "code",
      "source": [
        "!nvcc vector_addition.cu -o vector_addition"
      ],
      "metadata": {
        "id": "3ZBsuk0kHqJ_"
      },
      "execution_count": 75,
      "outputs": []
    },
    {
      "cell_type": "code",
      "source": [
        "!./vector_addition"
      ],
      "metadata": {
        "colab": {
          "base_uri": "https://localhost:8080/"
        },
        "id": "cZ3-ZJg4MPUN",
        "outputId": "78a723d8-6c1b-4cde-c8a8-99e84a205295"
      },
      "execution_count": 76,
      "outputs": [
        {
          "output_type": "stream",
          "name": "stdout",
          "text": [
            "GPU kernel execution time: 7.82541 ms\n"
          ]
        }
      ]
    },
    {
      "cell_type": "markdown",
      "source": [
        "# C program as comparision"
      ],
      "metadata": {
        "id": "LV7A0MPKNVae"
      }
    },
    {
      "cell_type": "code",
      "source": [
        "%%writefile vector_addition_cpu.c\n",
        "#include <stdio.h>\n",
        "#include <stdlib.h>\n",
        "#include <time.h>\n",
        "\n",
        "// Function to perform vector addition on the CPU\n",
        "void vector_addition(const float* A, const float* B, float* C, int N) {\n",
        "    for (int i = 0; i < N; i++) {\n",
        "        C[i] = A[i] + B[i];\n",
        "    }\n",
        "}\n",
        "\n",
        "int main() {\n",
        "    const int N = 10000; // Use a large size for better timing comparisons\n",
        "    float *A = (float*) malloc(N * sizeof(float));\n",
        "    float *B = (float*) malloc(N * sizeof(float));\n",
        "    float *C = (float*) malloc(N * sizeof(float));\n",
        "\n",
        "    // Initialization of arrays (not included in the timed section)\n",
        "    for (int i = 0; i < N; i++) {\n",
        "        A[i] = (float) i;\n",
        "        B[i] = (float)(i * 2);\n",
        "    }\n",
        "\n",
        "    // Start timer for the vector addition only\n",
        "    clock_t start = clock();\n",
        "\n",
        "    vector_addition(A, B, C, N);\n",
        "\n",
        "    clock_t end = clock();\n",
        "    double cpu_time_used = ((double)(end - start)) / CLOCKS_PER_SEC;\n",
        "\n",
        "    printf(\"CPU vector addition (excluding initialization) took %f seconds.\\n\", cpu_time_used);\n",
        "\n",
        "    // Optionally, check a few results for correctness\n",
        "    // for (int i = 0; i < 10; i++) {\n",
        "    //     printf(\"C[%d] = %f\\n\", i, C[i]);\n",
        "    // }\n",
        "\n",
        "    free(A);\n",
        "    free(B);\n",
        "    free(C);\n",
        "\n",
        "    return 0;\n",
        "}\n"
      ],
      "metadata": {
        "colab": {
          "base_uri": "https://localhost:8080/"
        },
        "id": "unZ2pjhsNUcB",
        "outputId": "ebbbebb4-fc3b-4ba4-951a-f6ec2297c5e3"
      },
      "execution_count": 63,
      "outputs": [
        {
          "output_type": "stream",
          "name": "stdout",
          "text": [
            "Overwriting vector_addition_cpu.c\n"
          ]
        }
      ]
    },
    {
      "cell_type": "code",
      "source": [
        "!gcc --version"
      ],
      "metadata": {
        "colab": {
          "base_uri": "https://localhost:8080/"
        },
        "id": "sjANKe_UMZrI",
        "outputId": "b9c8fe58-a97d-454e-b400-d22a11569473"
      },
      "execution_count": 64,
      "outputs": [
        {
          "output_type": "stream",
          "name": "stdout",
          "text": [
            "gcc (Ubuntu 11.4.0-1ubuntu1~22.04) 11.4.0\n",
            "Copyright (C) 2021 Free Software Foundation, Inc.\n",
            "This is free software; see the source for copying conditions.  There is NO\n",
            "warranty; not even for MERCHANTABILITY or FITNESS FOR A PARTICULAR PURPOSE.\n",
            "\n"
          ]
        }
      ]
    },
    {
      "cell_type": "code",
      "source": [
        "!gcc -o vector_addition_cpu vector_addition_cpu.c"
      ],
      "metadata": {
        "id": "VR-xMMSRNa-M"
      },
      "execution_count": 65,
      "outputs": []
    },
    {
      "cell_type": "code",
      "source": [
        "!./vector_addition_cpu"
      ],
      "metadata": {
        "colab": {
          "base_uri": "https://localhost:8080/"
        },
        "id": "xWhDm4lYNl_-",
        "outputId": "8c5a5868-a648-41c2-d154-30774df5f88a"
      },
      "execution_count": 66,
      "outputs": [
        {
          "output_type": "stream",
          "name": "stdout",
          "text": [
            "CPU vector addition (excluding initialization) took 0.000056 seconds.\n"
          ]
        }
      ]
    },
    {
      "cell_type": "code",
      "source": [],
      "metadata": {
        "id": "7WALGumJNnoc"
      },
      "execution_count": null,
      "outputs": []
    }
  ]
}